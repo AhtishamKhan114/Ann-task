{
 "cells": [
  {
   "cell_type": "markdown",
   "id": "8c85874a-8c2d-415d-a87e-b188631a4661",
   "metadata": {},
   "source": [
    "# **Breast Cancer Wisconsin (Diagnostic) Dataset Preprocessing**\n",
    "\n",
    "In this tutorial, we will preprocess the **Breast Cancer Wisconsin (Diagnostic) Dataset** from the UCI Machine Learning Repository. We will apply Min-Max Scaling to the features to normalize the data.\n",
    "\n",
    "---\n",
    "\n",
    "Step 1: Import Necessary Libraries\n",
    "\n",
    "We start by importing the necessary libraries: `fetch_ucirepo` to fetch the dataset, `MinMaxScaler` for normalization, and `pandas` for data manipulation.\n",
    "\n"
   ]
  },
  {
   "cell_type": "code",
   "execution_count": null,
   "id": "6f1667d9-89f8-475b-898b-3eca5017597e",
   "metadata": {},
   "outputs": [],
   "source": [
    "# Import necessary libraries\n",
    "from ucimlrepo import fetch_ucirepo\n",
    "from sklearn.preprocessing import MinMaxScaler\n",
    "import pandas as pd\n"
   ]
  },
  {
   "cell_type": "markdown",
   "id": "4ab325bf-eb85-420e-95a9-81dde3577247",
   "metadata": {},
   "source": [
    "Step 2: Fetch the Dataset\n",
    "We fetch the Breast Cancer Wisconsin (Diagnostic) Dataset from the UCI repository using the fetch_ucirepo function."
   ]
  },
  {
   "cell_type": "code",
   "execution_count": null,
   "id": "b50f981e-d403-4710-afd5-620f3757bd67",
   "metadata": {},
   "outputs": [],
   "source": [
    "# Fetch dataset from UCI repository\n",
    "breast_cancer_wisconsin_diagnostic = fetch_ucirepo(id=17)\n"
   ]
  },
  {
   "cell_type": "markdown",
   "id": "b28c8346-23f4-4d82-81bd-30e9b73a7ba7",
   "metadata": {},
   "source": [
    "Step 3: Extract Features and Target\n",
    "We extract the features (denoted as X) and the target variable (denoted as y) from the dataset."
   ]
  },
  {
   "cell_type": "code",
   "execution_count": null,
   "id": "af5a631e-0c6f-457f-a5ec-7ab3ad2628d6",
   "metadata": {},
   "outputs": [],
   "source": [
    "# Extract features (X) and target (y)\n",
    "X = breast_cancer_wisconsin_diagnostic.data.features\n",
    "y = breast_cancer_wisconsin_diagnostic.data.targets\n"
   ]
  },
  {
   "cell_type": "markdown",
   "id": "31b549cb-a39a-4fe0-8fbe-0fddbc60a9af",
   "metadata": {},
   "source": [
    "Step 4: Display Metadata and Variable Information\n",
    "To understand the dataset better, we display the metadata and the information regarding the variables (features and target)."
   ]
  },
  {
   "cell_type": "code",
   "execution_count": null,
   "id": "231c23dd-863e-4599-a040-93024b9131dc",
   "metadata": {},
   "outputs": [],
   "source": [
    "# Display metadata and variable information\n",
    "print(\"Metadata:\\n\", breast_cancer_wisconsin_diagnostic.metadata)\n",
    "print(\"\\nVariable Information:\\n\", breast_cancer_wisconsin_diagnostic.variables)\n"
   ]
  },
  {
   "cell_type": "markdown",
   "id": "c8398cc7-6110-418d-91b2-a00740b2e910",
   "metadata": {},
   "source": [
    "Step 5: Initialize the Min-Max Scaler\n",
    "We initialize the MinMaxScaler from sklearn.preprocessing to normalize the feature values to the range [0, 1]."
   ]
  },
  {
   "cell_type": "code",
   "execution_count": null,
   "id": "cff1db00-0fdb-4340-a111-fa592a5e90bf",
   "metadata": {},
   "outputs": [],
   "source": [
    "# Initialize the MinMaxScaler\n",
    "scaler = MinMaxScaler()\n"
   ]
  },
  {
   "cell_type": "markdown",
   "id": "a3bf78b5-c985-4438-849b-af7932057914",
   "metadata": {},
   "source": [
    "Step 6: Apply Min-Max Scaling\n",
    "We apply Min-Max Scaling to the features to scale the feature values between 0 and 1."
   ]
  },
  {
   "cell_type": "code",
   "execution_count": null,
   "id": "eb914c27-0e63-4e49-ab90-b639a96e909f",
   "metadata": {},
   "outputs": [],
   "source": [
    "# Apply Min-Max Scaling to the features\n",
    "X_scaled = scaler.fit_transform(X)\n"
   ]
  },
  {
   "cell_type": "markdown",
   "id": "8c218e09-5728-4f10-9cb2-030f9718d26b",
   "metadata": {},
   "source": [
    "Step 7: Convert Scaled Features Back to DataFrame\n",
    "For readability, we convert the scaled features back into a pandas DataFrame, retaining the original column names."
   ]
  },
  {
   "cell_type": "code",
   "execution_count": null,
   "id": "91514f14-f707-4744-9552-600d42267704",
   "metadata": {},
   "outputs": [],
   "source": [
    "# Convert the scaled features back into a DataFrame for readability (optional)\n",
    "X_scaled_df = pd.DataFrame(X_scaled, columns=X.columns)\n"
   ]
  },
  {
   "cell_type": "markdown",
   "id": "45f73614-a2cd-4344-a380-e45c2bafafe0",
   "metadata": {},
   "source": [
    "Step 8: Display the First Few Rows of Scaled Data\n",
    "Finally, we display the first few rows of the scaled dataset to verify the normalization process."
   ]
  },
  {
   "cell_type": "code",
   "execution_count": null,
   "id": "c18d2978-7764-40c3-9402-6145405d8a79",
   "metadata": {},
   "outputs": [],
   "source": [
    "# Display the first few rows of the scaled dataset\n",
    "print(\"\\nScaled Data:\\n\", X_scaled_df.head())\n"
   ]
  }
 ],
 "metadata": {
  "kernelspec": {
   "display_name": "Python 3 (ipykernel)",
   "language": "python",
   "name": "python3"
  },
  "language_info": {
   "codemirror_mode": {
    "name": "ipython",
    "version": 3
   },
   "file_extension": ".py",
   "mimetype": "text/x-python",
   "name": "python",
   "nbconvert_exporter": "python",
   "pygments_lexer": "ipython3",
   "version": "3.11.7"
  }
 },
 "nbformat": 4,
 "nbformat_minor": 5
}
